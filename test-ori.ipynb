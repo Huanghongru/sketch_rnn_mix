{
 "cells": [
  {
   "cell_type": "code",
   "execution_count": 1,
   "metadata": {
    "collapsed": true
   },
   "outputs": [],
   "source": [
    "# import the required libraries\n",
    "import numpy as np\n",
    "import time\n",
    "import random\n",
    "import cPickle\n",
    "import codecs\n",
    "import collections\n",
    "import os\n",
    "import math\n",
    "import json\n",
    "import tensorflow as tf\n",
    "from six.moves import xrange\n",
    "\n",
    "# libraries required for visualisation:\n",
    "from IPython.display import SVG, display\n",
    "import svgwrite # conda install -c omnia svgwrite=1.1.6\n",
    "import PIL\n",
    "from PIL import Image\n",
    "import matplotlib.pyplot as plt\n",
    "\n",
    "# set numpy output to something sensible\n",
    "np.set_printoptions(precision=8, edgeitems=6, linewidth=200, suppress=True)"
   ]
  },
  {
   "cell_type": "code",
   "execution_count": 2,
   "metadata": {
    "collapsed": true
   },
   "outputs": [],
   "source": [
    "# import our command line tools\n",
    "from sketch_rnn_train import *\n",
    "from model import *\n",
    "from utils import *\n",
    "from rnn import *"
   ]
  },
  {
   "cell_type": "code",
   "execution_count": 3,
   "metadata": {
    "collapsed": true
   },
   "outputs": [],
   "source": [
    "# inspect variables in checkpoint files\n",
    "from tensorflow.python import pywrap_tensorflow\n",
    "from tensorflow.python.platform import app\n",
    "from tensorflow.python.platform import flags"
   ]
  },
  {
   "cell_type": "code",
   "execution_count": 4,
   "metadata": {
    "collapsed": true
   },
   "outputs": [],
   "source": [
    "# little function that displays vector images and saves them to .svg\n",
    "def draw_strokes(data, factor=0.2, svg_filename='/tmp/sketch_rnn/svg/sample.svg'):\n",
    "  tf.gfile.MakeDirs(os.path.dirname(svg_filename))\n",
    "  min_x, max_x, min_y, max_y = get_bounds(data, factor)\n",
    "  dims = (50 + max_x - min_x, 50 + max_y - min_y)\n",
    "  dwg = svgwrite.Drawing(svg_filename, size=dims)\n",
    "  dwg.add(dwg.rect(insert=(0, 0), size=dims,fill='white'))\n",
    "  lift_pen = 1\n",
    "  abs_x = 25 - min_x \n",
    "  abs_y = 25 - min_y\n",
    "  p = \"M%s,%s \" % (abs_x, abs_y)\n",
    "  command = \"m\"\n",
    "  for i in xrange(len(data)):\n",
    "    if (lift_pen == 1):\n",
    "      command = \"m\"\n",
    "    elif (command != \"l\"):\n",
    "      command = \"l\"\n",
    "    else:\n",
    "      command = \"\"\n",
    "    x = float(data[i,0])/factor\n",
    "    y = float(data[i,1])/factor\n",
    "    lift_pen = data[i, 2]\n",
    "    p += command+str(x)+\",\"+str(y)+\" \"\n",
    "  the_color = \"black\"\n",
    "  stroke_width = 1\n",
    "  dwg.add(dwg.path(p).stroke(the_color,stroke_width).fill(\"none\"))\n",
    "  dwg.save()\n",
    "  display(SVG(dwg.tostring()))\n",
    "\n",
    "# generate a 2D grid of many vector drawings\n",
    "def make_grid_svg(s_list, grid_space=10.0, grid_space_x=16.0):\n",
    "  def get_start_and_end(x):\n",
    "    x = np.array(x)\n",
    "    x = x[:, 0:2]\n",
    "    x_start = x[0]\n",
    "    x_end = x.sum(axis=0)\n",
    "    x = x.cumsum(axis=0)\n",
    "    x_max = x.max(axis=0)\n",
    "    x_min = x.min(axis=0)\n",
    "    center_loc = (x_max+x_min)*0.5\n",
    "    return x_start-center_loc, x_end\n",
    "  x_pos = 0.0\n",
    "  y_pos = 0.0\n",
    "  result = [[x_pos, y_pos, 1]]\n",
    "  for sample in s_list:\n",
    "    s = sample[0]\n",
    "    grid_loc = sample[1]\n",
    "    grid_y = grid_loc[0]*grid_space+grid_space*0.5\n",
    "    grid_x = grid_loc[1]*grid_space_x+grid_space_x*0.5\n",
    "    start_loc, delta_pos = get_start_and_end(s)\n",
    "\n",
    "    loc_x = start_loc[0]\n",
    "    loc_y = start_loc[1]\n",
    "    new_x_pos = grid_x+loc_x\n",
    "    new_y_pos = grid_y+loc_y\n",
    "    result.append([new_x_pos-x_pos, new_y_pos-y_pos, 0])\n",
    "\n",
    "    result += s.tolist()\n",
    "    result[-1][2] = 1\n",
    "    x_pos = new_x_pos+delta_pos[0]\n",
    "    y_pos = new_y_pos+delta_pos[1]\n",
    "  return np.array(result)"
   ]
  },
  {
   "cell_type": "code",
   "execution_count": 5,
   "metadata": {
    "collapsed": true
   },
   "outputs": [],
   "source": [
    "data_dir = 'dataset/quickdraw/'\n",
    "model_dir = 'test_model/'"
   ]
  },
  {
   "cell_type": "code",
   "execution_count": 6,
   "metadata": {
    "scrolled": true
   },
   "outputs": [
    {
     "name": "stdout",
     "output_type": "stream",
     "text": [
      "INFO:tensorflow:Loaded 70000/2500/2500 from cow.npz\n",
      "INFO:tensorflow:Loaded 70000/2500/2500 from crab.npz\n",
      "INFO:tensorflow:Dataset combined: 150000 (140000/5000/5000), avg len 97\n",
      "INFO:tensorflow:model_params.max_seq_len 208.\n",
      "total images <= max_seq_len is 140000\n",
      "total images <= max_seq_len is 5000\n",
      "total images <= max_seq_len is 5000\n",
      "INFO:tensorflow:normalizing_scale_factor 46.2957.\n"
     ]
    }
   ],
   "source": [
    "[train_set, valid_set, test_set, hps_model, eval_hps_model, sample_hps_model] = load_env(data_dir, model_dir)"
   ]
  },
  {
   "cell_type": "code",
   "execution_count": 7,
   "metadata": {},
   "outputs": [
    {
     "name": "stdout",
     "output_type": "stream",
     "text": [
      "INFO:tensorflow:Model using gpu.\n",
      "INFO:tensorflow:Input dropout mode = False.\n",
      "INFO:tensorflow:Output dropout mode = False.\n",
      "INFO:tensorflow:Recurrent dropout mode = False.\n",
      "INFO:tensorflow:Model using gpu.\n",
      "INFO:tensorflow:Input dropout mode = False.\n",
      "INFO:tensorflow:Output dropout mode = False.\n",
      "INFO:tensorflow:Recurrent dropout mode = False.\n",
      "INFO:tensorflow:Model using gpu.\n",
      "INFO:tensorflow:Input dropout mode = False.\n",
      "INFO:tensorflow:Output dropout mode = False.\n",
      "INFO:tensorflow:Recurrent dropout mode = False.\n"
     ]
    }
   ],
   "source": [
    "# construct the sketch-rnn model here:\n",
    "reset_graph()\n",
    "model = Model(hps_model)\n",
    "eval_model = Model(eval_hps_model, reuse=True)\n",
    "sample_model = Model(sample_hps_model, reuse=True)"
   ]
  },
  {
   "cell_type": "code",
   "execution_count": 8,
   "metadata": {
    "collapsed": true
   },
   "outputs": [],
   "source": [
    "sess = tf.InteractiveSession()\n",
    "sess.run(tf.global_variables_initializer())"
   ]
  },
  {
   "cell_type": "code",
   "execution_count": 9,
   "metadata": {},
   "outputs": [
    {
     "name": "stdout",
     "output_type": "stream",
     "text": [
      "INFO:tensorflow:Loading model test_model/vector-1.\n",
      "INFO:tensorflow:Restoring parameters from test_model/vector-1\n"
     ]
    }
   ],
   "source": [
    "# loads the weights from checkpoint into our model\n",
    "load_checkpoint(sess, model_dir)"
   ]
  },
  {
   "cell_type": "code",
   "execution_count": 10,
   "metadata": {
    "collapsed": true
   },
   "outputs": [],
   "source": [
    "def encode(input_strokes):\n",
    "  strokes = to_big_strokes(input_strokes,max_len=eval_hps_model.max_seq_len).tolist()\n",
    "  strokes.insert(0, [0, 0, 1, 0, 0])\n",
    "  seq_len = [len(input_strokes)]\n",
    "  draw_strokes(to_normal_strokes(np.array(strokes)))\n",
    "  return sess.run(eval_model.batch_zs, feed_dict={eval_model.input_data: [strokes], eval_model.sequence_lengths: seq_len})[0]"
   ]
  },
  {
   "cell_type": "code",
   "execution_count": 11,
   "metadata": {
    "collapsed": true
   },
   "outputs": [],
   "source": [
    "def decode(z_input=None, draw_mode=True, temperature=0.1, factor=0.2):\n",
    "  z = None\n",
    "  if z_input is not None:\n",
    "    z = [z_input]\n",
    "  sample_strokes = sample(sess, sample_model, seq_len=eval_model.hps.max_seq_len, temperature=temperature, z=z)\n",
    "  strokes = to_normal_strokes(sample_strokes)\n",
    "  if draw_mode:\n",
    "    draw_strokes(strokes, factor)\n",
    "  return strokes"
   ]
  },
  {
   "cell_type": "code",
   "execution_count": 12,
   "metadata": {},
   "outputs": [
    {
     "data": {
      "image/svg+xml": [
       "<svg baseProfile=\"full\" height=\"96.2245757505\" version=\"1.1\" width=\"113.3967942\" xmlns=\"http://www.w3.org/2000/svg\" xmlns:ev=\"http://www.w3.org/2001/xml-events\" xmlns:xlink=\"http://www.w3.org/1999/xlink\"><defs/><rect fill=\"white\" height=\"96.2245757505\" width=\"113.3967942\" x=\"0\" y=\"0\"/><path d=\"M73.600609675,33.1001011282 m-8.20810258389,-0.648008063436 l-10.1521265507,0.0 -7.8840982914,0.54000671953 l-5.83207249641,1.51201888919 -2.37602964044,1.08001343906 l-2.37602964044,1.62002027035 -1.08001343906,1.51201888919 l-1.18801482022,2.70003378391 -1.08001343906,4.10405129194 l0.216002687812,3.56404453516 1.29601612687,2.91603624821 l2.91603624821,2.26802825928 2.91603624821,0.756009444594 l14.3641793728,0.972012132406 9.07211303711,-0.432005375624 l3.45604300499,-0.864010751247 4.21205252409,-1.83602288365 l2.59203225374,-1.83602288365 1.62002027035,-1.72802150249 l2.4840310216,-6.1560767889 0.0,-3.78004699945 l-0.648008063436,-2.16002687812 -1.51201888919,-1.83602288365 l-2.59203225374,-1.83602288365 -4.86006051302,-0.54000671953 m13.6081695557,-5.18406450748 l1.94402426481,0.864010751247 2.4840310216,3.45604300499 l1.18801482022,3.78004699945 0.216002687812,5.40006756783 l-0.864010751247,1.83602288365 -2.70003378391,2.37602964044 l-2.59203225374,0.324004031718 -1.94402426481,-1.08001343906 l-2.4840310216,-2.59203225374 -1.83602288365,-3.67204576731 l-1.18801482022,-5.40006756783 0.0,-2.91603624821 l1.29601612687,-1.51201888919 1.83602288365,-0.972012132406 l3.34804177284,-0.324004031718 1.18801482022,0.216002687812 l2.26802825928,1.40401750803 0.972012132406,1.08001343906 l0.216002687812,1.08001343906 m1.29601612687,8.64010751247 l-3.13203901052,-0.756009444594 -3.13203901052,0.216002687812 l-2.59203225374,1.94402426481 -0.864010751247,0.972012132406 l-0.864010751247,1.83602288365 m0.108001343906,-16.4162051678 l-3.67204576731,-1.83602288365 -0.216002687812,0.648008063436 l1.83602288365,3.45604300499 m8.64010751247,-1.94402426481 l0.324004031718,-0.648008063436 0.0,-2.26802825928 l2.37602964044,6.69608354568 m-7.6680958271,0.756009444594 l0.0,0.0 m4.32005375624,0.216002687812 l-0.432005375624,0.0 m-2.91603624821,0.324004031718 l0.0,0.0 m-1.51201888919,-0.432005375624 l0.0,0.0 m-9.72012102604,0.972012132406 l-1.62002027035,3.88804852962 -1.08001343906,1.08001343906 l-2.26802825928,0.864010751247 -3.2400405407,0.0 l-6.91208600998,-2.91603624821 -4.10405129194,-0.108001343906 l-1.08001343906,0.324004031718 -2.37602964044,1.72802150249 l-3.88804852962,4.86006051302 -1.83602288365,1.18801482022 l-3.67204576731,1.29601612687 -6.80408477783,0.216002687812 m44.8205566406,7.56009399891 l0.0,-0.756009444594 -0.864010751247,-0.972012132406 l-2.70003378391,-2.05202564597 -4.75205928087,-2.4840310216 l-3.13203901052,-0.324004031718 -3.13203901052,0.54000671953 l-4.42805528641,4.32005375624 -1.08001343906,0.756009444594 l-2.70003378391,0.864010751247 -5.29206573963,0.0 l-3.02403777838,-0.756009444594 -2.4840310216,0.0 l-1.08001343906,0.432005375624 -0.972012132406,1.08001343906 m3.88804852962,3.34804177284 l0.54000671953,0.432005375624 0.0,4.32005375624 l1.08001343906,8.96411180496 m12.2041523457,-14.6881830692 l0.108001343906,13.82417202 m12.42015481,-12.7441585064 l-0.108001343906,12.9601621628 m6.3720792532,-17.1722137928 l0.54000671953,15.9841990471 m-41.7965221405,-28.1883525848 l-0.864010751247,1.18801482022 -7.77609705925,6.04807555676 m11.5561437607,-7.02008724213 l0.108001343906,4.21205252409 -0.432005375624,1.08001343906 l-0.864010751247,0.432005375624 -0.756009444594,-5.50806879997 l0.108001343906,-0.864010751247 0.756009444594,-0.432005375624 l0.972012132406,0.0 1.18801482022,0.54000671953 l2.05202564597,2.37602964044 0.54000671953,1.51201888919 l-1.29601612687,-2.16002687812 -0.972012132406,-4.10405129194 l1.08001343906,0.324004031718 0.864010751247,1.40401750803 l0.756009444594,1.51201888919 0.648008063436,2.80803501606 l-0.864010751247,-0.756009444594 -1.51201888919,-3.56404453516 l-0.432005375624,-2.4840310216 0.324004031718,-0.54000671953 l1.18801482022,0.54000671953 0.972012132406,1.29601612687 l1.72802150249,3.56404453516 -1.29601612687,-3.02403777838 l-0.756009444594,-4.21205252409 0.54000671953,0.0 l1.40401750803,0.972012132406 2.80803501606,2.80803501606 l-0.864010751247,-0.216002687812 -0.648008063436,-0.972012132406 l-0.216002687812,-2.16002687812 1.83602288365,-0.324004031718 l1.51201888919,2.4840310216 0.108001343906,-3.45604300499 l0.54000671953,-0.432005375624 0.864010751247,0.0 l1.08001343906,0.54000671953 1.94402426481,1.72802150249 l-0.432005375624,-1.08001343906 0.0,-1.51201888919 l1.62002027035,-0.216002687812 2.16002687812,1.83602288365 l1.29601612687,2.16002687812 -0.756009444594,-1.08001343906 l-0.108001343906,-2.16002687812 1.40401750803,-0.216002687812 l2.16002687812,2.37602964044 1.08001343906,2.91603624821 l-1.18801482022,-1.62002027035 -0.648008063436,-1.72802150249 l-0.216002687812,-2.80803501606 0.864010751247,0.0 l1.18801482022,0.864010751247 3.2400405407,5.07606327534 l-2.16002687812,-4.32005375624 -0.108001343906,-0.864010751247 l0.54000671953,-0.432005375624 2.37602964044,1.83602288365 l1.29601612687,2.16002687812 m3.45604300499,14.4721806049 l-0.324004031718,0.648008063436 -1.08001343906,0.756009444594 l-1.51201888919,-0.432005375624 \" fill=\"none\" stroke=\"black\" stroke-width=\"1\"/></svg>"
      ],
      "text/plain": [
       "<IPython.core.display.SVG object>"
      ]
     },
     "metadata": {},
     "output_type": "display_data"
    }
   ],
   "source": [
    "# get a sample drawing from the test set, and render it to .svg\n",
    "stroke = test_set.random_sample()\n",
    "draw_strokes(stroke)"
   ]
  },
  {
   "cell_type": "code",
   "execution_count": 13,
   "metadata": {},
   "outputs": [
    {
     "data": {
      "image/svg+xml": [
       "<svg baseProfile=\"full\" height=\"96.2245757505\" version=\"1.1\" width=\"113.3967942\" xmlns=\"http://www.w3.org/2000/svg\" xmlns:ev=\"http://www.w3.org/2001/xml-events\" xmlns:xlink=\"http://www.w3.org/1999/xlink\"><defs/><rect fill=\"white\" height=\"96.2245757505\" width=\"113.3967942\" x=\"0\" y=\"0\"/><path d=\"M73.600609675,33.1001011282 m0.0,0.0 l-8.20810258389,-0.648008063436 -10.1521265507,0.0 l-7.8840982914,0.54000671953 -5.83207249641,1.51201888919 l-2.37602964044,1.08001343906 -2.37602964044,1.62002027035 l-1.08001343906,1.51201888919 -1.18801482022,2.70003378391 l-1.08001343906,4.10405129194 0.216002687812,3.56404453516 l1.29601612687,2.91603624821 2.91603624821,2.26802825928 l2.91603624821,0.756009444594 14.3641793728,0.972012132406 l9.07211303711,-0.432005375624 3.45604300499,-0.864010751247 l4.21205252409,-1.83602288365 2.59203225374,-1.83602288365 l1.62002027035,-1.72802150249 2.4840310216,-6.1560767889 l0.0,-3.78004699945 -0.648008063436,-2.16002687812 l-1.51201888919,-1.83602288365 -2.59203225374,-1.83602288365 l-4.86006051302,-0.54000671953 m13.6081695557,-5.18406450748 l1.94402426481,0.864010751247 2.4840310216,3.45604300499 l1.18801482022,3.78004699945 0.216002687812,5.40006756783 l-0.864010751247,1.83602288365 -2.70003378391,2.37602964044 l-2.59203225374,0.324004031718 -1.94402426481,-1.08001343906 l-2.4840310216,-2.59203225374 -1.83602288365,-3.67204576731 l-1.18801482022,-5.40006756783 0.0,-2.91603624821 l1.29601612687,-1.51201888919 1.83602288365,-0.972012132406 l3.34804177284,-0.324004031718 1.18801482022,0.216002687812 l2.26802825928,1.40401750803 0.972012132406,1.08001343906 l0.216002687812,1.08001343906 m1.29601612687,8.64010751247 l-3.13203901052,-0.756009444594 -3.13203901052,0.216002687812 l-2.59203225374,1.94402426481 -0.864010751247,0.972012132406 l-0.864010751247,1.83602288365 m0.108001343906,-16.4162051678 l-3.67204576731,-1.83602288365 -0.216002687812,0.648008063436 l1.83602288365,3.45604300499 m8.64010751247,-1.94402426481 l0.324004031718,-0.648008063436 0.0,-2.26802825928 l2.37602964044,6.69608354568 m-7.6680958271,0.756009444594 l0.0,0.0 m4.32005375624,0.216002687812 l-0.432005375624,0.0 m-2.91603624821,0.324004031718 l0.0,0.0 m-1.51201888919,-0.432005375624 l0.0,0.0 m-9.72012102604,0.972012132406 l-1.62002027035,3.88804852962 -1.08001343906,1.08001343906 l-2.26802825928,0.864010751247 -3.2400405407,0.0 l-6.91208600998,-2.91603624821 -4.10405129194,-0.108001343906 l-1.08001343906,0.324004031718 -2.37602964044,1.72802150249 l-3.88804852962,4.86006051302 -1.83602288365,1.18801482022 l-3.67204576731,1.29601612687 -6.80408477783,0.216002687812 m44.8205566406,7.56009399891 l0.0,-0.756009444594 -0.864010751247,-0.972012132406 l-2.70003378391,-2.05202564597 -4.75205928087,-2.4840310216 l-3.13203901052,-0.324004031718 -3.13203901052,0.54000671953 l-4.42805528641,4.32005375624 -1.08001343906,0.756009444594 l-2.70003378391,0.864010751247 -5.29206573963,0.0 l-3.02403777838,-0.756009444594 -2.4840310216,0.0 l-1.08001343906,0.432005375624 -0.972012132406,1.08001343906 m3.88804852962,3.34804177284 l0.54000671953,0.432005375624 0.0,4.32005375624 l1.08001343906,8.96411180496 m12.2041523457,-14.6881830692 l0.108001343906,13.82417202 m12.42015481,-12.7441585064 l-0.108001343906,12.9601621628 m6.3720792532,-17.1722137928 l0.54000671953,15.9841990471 m-41.7965221405,-28.1883525848 l-0.864010751247,1.18801482022 -7.77609705925,6.04807555676 m11.5561437607,-7.02008724213 l0.108001343906,4.21205252409 -0.432005375624,1.08001343906 l-0.864010751247,0.432005375624 -0.756009444594,-5.50806879997 l0.108001343906,-0.864010751247 0.756009444594,-0.432005375624 l0.972012132406,0.0 1.18801482022,0.54000671953 l2.05202564597,2.37602964044 0.54000671953,1.51201888919 l-1.29601612687,-2.16002687812 -0.972012132406,-4.10405129194 l1.08001343906,0.324004031718 0.864010751247,1.40401750803 l0.756009444594,1.51201888919 0.648008063436,2.80803501606 l-0.864010751247,-0.756009444594 -1.51201888919,-3.56404453516 l-0.432005375624,-2.4840310216 0.324004031718,-0.54000671953 l1.18801482022,0.54000671953 0.972012132406,1.29601612687 l1.72802150249,3.56404453516 -1.29601612687,-3.02403777838 l-0.756009444594,-4.21205252409 0.54000671953,0.0 l1.40401750803,0.972012132406 2.80803501606,2.80803501606 l-0.864010751247,-0.216002687812 -0.648008063436,-0.972012132406 l-0.216002687812,-2.16002687812 1.83602288365,-0.324004031718 l1.51201888919,2.4840310216 0.108001343906,-3.45604300499 l0.54000671953,-0.432005375624 0.864010751247,0.0 l1.08001343906,0.54000671953 1.94402426481,1.72802150249 l-0.432005375624,-1.08001343906 0.0,-1.51201888919 l1.62002027035,-0.216002687812 2.16002687812,1.83602288365 l1.29601612687,2.16002687812 -0.756009444594,-1.08001343906 l-0.108001343906,-2.16002687812 1.40401750803,-0.216002687812 l2.16002687812,2.37602964044 1.08001343906,2.91603624821 l-1.18801482022,-1.62002027035 -0.648008063436,-1.72802150249 l-0.216002687812,-2.80803501606 0.864010751247,0.0 l1.18801482022,0.864010751247 3.2400405407,5.07606327534 l-2.16002687812,-4.32005375624 -0.108001343906,-0.864010751247 l0.54000671953,-0.432005375624 2.37602964044,1.83602288365 l1.29601612687,2.16002687812 m3.45604300499,14.4721806049 l-0.324004031718,0.648008063436 -1.08001343906,0.756009444594 l-1.51201888919,-0.432005375624 \" fill=\"none\" stroke=\"black\" stroke-width=\"1\"/></svg>"
      ],
      "text/plain": [
       "<IPython.core.display.SVG object>"
      ]
     },
     "metadata": {},
     "output_type": "display_data"
    },
    {
     "ename": "AttributeError",
     "evalue": "'Model' object has no attribute 'batch_z'",
     "traceback": [
      "\u001b[0;31m---------------------------------------------------------------------------\u001b[0m",
      "\u001b[0;31mAttributeError\u001b[0m                            Traceback (most recent call last)",
      "\u001b[0;32m<ipython-input-13-0c52bb13d68a>\u001b[0m in \u001b[0;36m<module>\u001b[0;34m()\u001b[0m\n\u001b[0;32m----> 1\u001b[0;31m \u001b[0mz\u001b[0m \u001b[0;34m=\u001b[0m \u001b[0mencode\u001b[0m\u001b[0;34m(\u001b[0m\u001b[0mstroke\u001b[0m\u001b[0;34m)\u001b[0m\u001b[0;34m\u001b[0m\u001b[0m\n\u001b[0m",
      "\u001b[0;32m<ipython-input-10-051ae3b64c49>\u001b[0m in \u001b[0;36mencode\u001b[0;34m(input_strokes)\u001b[0m\n\u001b[1;32m      4\u001b[0m   \u001b[0mseq_len\u001b[0m \u001b[0;34m=\u001b[0m \u001b[0;34m[\u001b[0m\u001b[0mlen\u001b[0m\u001b[0;34m(\u001b[0m\u001b[0minput_strokes\u001b[0m\u001b[0;34m)\u001b[0m\u001b[0;34m]\u001b[0m\u001b[0;34m\u001b[0m\u001b[0m\n\u001b[1;32m      5\u001b[0m   \u001b[0mdraw_strokes\u001b[0m\u001b[0;34m(\u001b[0m\u001b[0mto_normal_strokes\u001b[0m\u001b[0;34m(\u001b[0m\u001b[0mnp\u001b[0m\u001b[0;34m.\u001b[0m\u001b[0marray\u001b[0m\u001b[0;34m(\u001b[0m\u001b[0mstrokes\u001b[0m\u001b[0;34m)\u001b[0m\u001b[0;34m)\u001b[0m\u001b[0;34m)\u001b[0m\u001b[0;34m\u001b[0m\u001b[0m\n\u001b[0;32m----> 6\u001b[0;31m   \u001b[0;32mreturn\u001b[0m \u001b[0msess\u001b[0m\u001b[0;34m.\u001b[0m\u001b[0mrun\u001b[0m\u001b[0;34m(\u001b[0m\u001b[0meval_model\u001b[0m\u001b[0;34m.\u001b[0m\u001b[0mbatch_z\u001b[0m\u001b[0;34m,\u001b[0m \u001b[0mfeed_dict\u001b[0m\u001b[0;34m=\u001b[0m\u001b[0;34m{\u001b[0m\u001b[0meval_model\u001b[0m\u001b[0;34m.\u001b[0m\u001b[0minput_data\u001b[0m\u001b[0;34m:\u001b[0m \u001b[0;34m[\u001b[0m\u001b[0mstrokes\u001b[0m\u001b[0;34m]\u001b[0m\u001b[0;34m,\u001b[0m \u001b[0meval_model\u001b[0m\u001b[0;34m.\u001b[0m\u001b[0msequence_lengths\u001b[0m\u001b[0;34m:\u001b[0m \u001b[0mseq_len\u001b[0m\u001b[0;34m}\u001b[0m\u001b[0;34m)\u001b[0m\u001b[0;34m[\u001b[0m\u001b[0;36m0\u001b[0m\u001b[0;34m]\u001b[0m\u001b[0;34m\u001b[0m\u001b[0m\n\u001b[0m",
      "\u001b[0;31mAttributeError\u001b[0m: 'Model' object has no attribute 'batch_z'"
     ],
     "output_type": "error"
    }
   ],
   "source": [
    "z = encode(stroke)"
   ]
  },
  {
   "cell_type": "code",
   "execution_count": 14,
   "metadata": {},
   "outputs": [
    {
     "ename": "NameError",
     "evalue": "name 'z' is not defined",
     "traceback": [
      "\u001b[0;31m---------------------------------------------------------------------------\u001b[0m",
      "\u001b[0;31mNameError\u001b[0m                                 Traceback (most recent call last)",
      "\u001b[0;32m<ipython-input-14-3c36fa6bdfce>\u001b[0m in \u001b[0;36m<module>\u001b[0;34m()\u001b[0m\n\u001b[0;32m----> 1\u001b[0;31m \u001b[0m_\u001b[0m \u001b[0;34m=\u001b[0m \u001b[0mdecode\u001b[0m\u001b[0;34m(\u001b[0m\u001b[0mz\u001b[0m\u001b[0;34m,\u001b[0m \u001b[0mtemperature\u001b[0m\u001b[0;34m=\u001b[0m\u001b[0;36m0.2\u001b[0m\u001b[0;34m)\u001b[0m \u001b[0;31m# convert z back to drawing at temperature of 0.8\u001b[0m\u001b[0;34m\u001b[0m\u001b[0m\n\u001b[0m",
      "\u001b[0;31mNameError\u001b[0m: name 'z' is not defined"
     ],
     "output_type": "error"
    }
   ],
   "source": [
    "_ = decode(z, temperature=0.2) # convert z back to drawing at temperature of 0.8"
   ]
  },
  {
   "cell_type": "code",
   "execution_count": null,
   "metadata": {
    "collapsed": true
   },
   "outputs": [],
   "source": [
    ""
   ]
  }
 ],
 "metadata": {
  "kernelspec": {
   "display_name": "Python 2",
   "language": "python",
   "name": "python2"
  },
  "language_info": {
   "codemirror_mode": {
    "name": "ipython",
    "version": 2.0
   },
   "file_extension": ".py",
   "mimetype": "text/x-python",
   "name": "python",
   "nbconvert_exporter": "python",
   "pygments_lexer": "ipython2",
   "version": "2.7.13"
  }
 },
 "nbformat": 4,
 "nbformat_minor": 0
}