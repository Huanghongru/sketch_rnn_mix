{
 "cells": [
  {
   "cell_type": "code",
   "execution_count": 1,
   "metadata": {
    "collapsed": true
   },
   "outputs": [],
   "source": [
    "# import the required libraries\n",
    "import numpy as np\n",
    "import time\n",
    "import random\n",
    "import cPickle\n",
    "import codecs\n",
    "import collections\n",
    "import os\n",
    "import math\n",
    "import json\n",
    "import tensorflow as tf\n",
    "from six.moves import xrange\n",
    "\n",
    "# libraries required for visualisation:\n",
    "from IPython.display import SVG, display\n",
    "import svgwrite # conda install -c omnia svgwrite=1.1.6\n",
    "import PIL\n",
    "from PIL import Image\n",
    "import matplotlib.pyplot as plt\n",
    "\n",
    "# set numpy output to something sensible\n",
    "np.set_printoptions(precision=8, edgeitems=6, linewidth=200, suppress=True)"
   ]
  },
  {
   "cell_type": "code",
   "execution_count": 2,
   "metadata": {},
   "outputs": [
    {
     "ename": "ImportError",
     "evalue": "No module named sketch_rnn_train_wta",
     "output_type": "error",
     "traceback": [
      "\u001b[0;31m\u001b[0m",
      "\u001b[0;31mImportError\u001b[0mTraceback (most recent call last)",
      "\u001b[0;32m<ipython-input-2-8a7f2e909bde>\u001b[0m in \u001b[0;36m<module>\u001b[0;34m()\u001b[0m\n\u001b[1;32m      1\u001b[0m \u001b[0;31m# import our command line tools\u001b[0m\u001b[0;34m\u001b[0m\u001b[0;34m\u001b[0m\u001b[0m\n\u001b[0;32m----> 2\u001b[0;31m \u001b[0;32mfrom\u001b[0m \u001b[0msketch_rnn_train_wta\u001b[0m \u001b[0;32mimport\u001b[0m \u001b[0;34m*\u001b[0m\u001b[0;34m\u001b[0m\u001b[0m\n\u001b[0m\u001b[1;32m      3\u001b[0m \u001b[0;32mfrom\u001b[0m \u001b[0mmodel_wta\u001b[0m \u001b[0;32mimport\u001b[0m \u001b[0;34m*\u001b[0m\u001b[0;34m\u001b[0m\u001b[0m\n\u001b[1;32m      4\u001b[0m \u001b[0;32mfrom\u001b[0m \u001b[0mutils\u001b[0m \u001b[0;32mimport\u001b[0m \u001b[0;34m*\u001b[0m\u001b[0;34m\u001b[0m\u001b[0m\n\u001b[1;32m      5\u001b[0m \u001b[0;32mfrom\u001b[0m \u001b[0mrnn\u001b[0m \u001b[0;32mimport\u001b[0m \u001b[0;34m*\u001b[0m\u001b[0;34m\u001b[0m\u001b[0m\n",
      "\u001b[0;31mImportError\u001b[0m: No module named sketch_rnn_train_wta"
     ]
    }
   ],
   "source": [
    "# import our command line tools\n",
    "from sketch_rnn_train_wta import *\n",
    "from model_wta import *\n",
    "from utils import *\n",
    "from rnn import *"
   ]
  },
  {
   "cell_type": "code",
   "execution_count": 3,
   "metadata": {
    "collapsed": true
   },
   "outputs": [],
   "source": [
    "# inspect variables in checkpoint files\n",
    "from tensorflow.python import pywrap_tensorflow\n",
    "from tensorflow.python.platform import app\n",
    "from tensorflow.python.platform import flags"
   ]
  },
  {
   "cell_type": "code",
   "execution_count": 4,
   "metadata": {
    "collapsed": true
   },
   "outputs": [],
   "source": [
    "# little function that displays vector images and saves them to .svg\n",
    "def draw_strokes(data, factor=0.2, svg_filename='/tmp/sketch_rnn/svg/sample.svg'):\n",
    "  tf.gfile.MakeDirs(os.path.dirname(svg_filename))\n",
    "  min_x, max_x, min_y, max_y = get_bounds(data, factor)\n",
    "  dims = (50 + max_x - min_x, 50 + max_y - min_y)\n",
    "  dwg = svgwrite.Drawing(svg_filename, size=dims)\n",
    "  dwg.add(dwg.rect(insert=(0, 0), size=dims,fill='white'))\n",
    "  lift_pen = 1\n",
    "  abs_x = 25 - min_x \n",
    "  abs_y = 25 - min_y\n",
    "  p = \"M%s,%s \" % (abs_x, abs_y)\n",
    "  command = \"m\"\n",
    "  for i in xrange(len(data)):\n",
    "    if (lift_pen == 1):\n",
    "      command = \"m\"\n",
    "    elif (command != \"l\"):\n",
    "      command = \"l\"\n",
    "    else:\n",
    "      command = \"\"\n",
    "    x = float(data[i,0])/factor\n",
    "    y = float(data[i,1])/factor\n",
    "    lift_pen = data[i, 2]\n",
    "    p += command+str(x)+\",\"+str(y)+\" \"\n",
    "  the_color = \"black\"\n",
    "  stroke_width = 1\n",
    "  dwg.add(dwg.path(p).stroke(the_color,stroke_width).fill(\"none\"))\n",
    "  dwg.save()\n",
    "  display(SVG(dwg.tostring()))\n",
    "\n",
    "# generate a 2D grid of many vector drawings\n",
    "def make_grid_svg(s_list, grid_space=10.0, grid_space_x=16.0):\n",
    "  def get_start_and_end(x):\n",
    "    x = np.array(x)\n",
    "    x = x[:, 0:2]\n",
    "    x_start = x[0]\n",
    "    x_end = x.sum(axis=0)\n",
    "    x = x.cumsum(axis=0)\n",
    "    x_max = x.max(axis=0)\n",
    "    x_min = x.min(axis=0)\n",
    "    center_loc = (x_max+x_min)*0.5\n",
    "    return x_start-center_loc, x_end\n",
    "  x_pos = 0.0\n",
    "  y_pos = 0.0\n",
    "  result = [[x_pos, y_pos, 1]]\n",
    "  for sample in s_list:\n",
    "    s = sample[0]\n",
    "    grid_loc = sample[1]\n",
    "    grid_y = grid_loc[0]*grid_space+grid_space*0.5\n",
    "    grid_x = grid_loc[1]*grid_space_x+grid_space_x*0.5\n",
    "    start_loc, delta_pos = get_start_and_end(s)\n",
    "\n",
    "    loc_x = start_loc[0]\n",
    "    loc_y = start_loc[1]\n",
    "    new_x_pos = grid_x+loc_x\n",
    "    new_y_pos = grid_y+loc_y\n",
    "    result.append([new_x_pos-x_pos, new_y_pos-y_pos, 0])\n",
    "\n",
    "    result += s.tolist()\n",
    "    result[-1][2] = 1\n",
    "    x_pos = new_x_pos+delta_pos[0]\n",
    "    y_pos = new_y_pos+delta_pos[1]\n",
    "  return np.array(result)"
   ]
  },
  {
   "cell_type": "code",
   "execution_count": 13,
   "metadata": {
    "collapsed": true
   },
   "outputs": [],
   "source": [
    "data_dir = 'sketch-rnn-datasets/'\n",
    "model_dir = 'model-schoolbus-wta-01/'"
   ]
  },
  {
   "cell_type": "code",
   "execution_count": 14,
   "metadata": {
    "scrolled": true
   },
   "outputs": [
    {
     "name": "stdout",
     "output_type": "stream",
     "text": [
      "INFO:tensorflow:Loaded 70000/2500/2500 from bus.npz\n",
      "INFO:tensorflow:Dataset combined: 75000 (70000/2500/2500), avg len 85\n",
      "INFO:tensorflow:model_params.max_seq_len 147.\n",
      "total images <= max_seq_len is 70000\n",
      "total images <= max_seq_len is 2500\n",
      "total images <= max_seq_len is 2500\n",
      "INFO:tensorflow:normalizing_scale_factor 65.4187.\n"
     ]
    }
   ],
   "source": [
    "[train_set, valid_set, test_set, hps_model, eval_hps_model, sample_hps_model] = load_env(data_dir, model_dir)"
   ]
  },
  {
   "cell_type": "code",
   "execution_count": 15,
   "metadata": {},
   "outputs": [
    {
     "name": "stdout",
     "output_type": "stream",
     "text": [
      "INFO:tensorflow:Model using gpu.\n",
      "INFO:tensorflow:Input dropout mode = False.\n",
      "INFO:tensorflow:Output dropout mode = False.\n",
      "INFO:tensorflow:Recurrent dropout mode = False.\n",
      "INFO:tensorflow:Model using gpu.\n",
      "INFO:tensorflow:Input dropout mode = False.\n",
      "INFO:tensorflow:Output dropout mode = False.\n",
      "INFO:tensorflow:Recurrent dropout mode = False.\n",
      "INFO:tensorflow:Model using gpu.\n",
      "INFO:tensorflow:Input dropout mode = False.\n",
      "INFO:tensorflow:Output dropout mode = False.\n",
      "INFO:tensorflow:Recurrent dropout mode = False.\n"
     ]
    }
   ],
   "source": [
    "# construct the sketch-rnn model here:\n",
    "reset_graph()\n",
    "model = Model(hps_model)\n",
    "eval_model = Model(eval_hps_model, reuse=True)\n",
    "sample_model = Model(sample_hps_model, reuse=True)"
   ]
  },
  {
   "cell_type": "code",
   "execution_count": 16,
   "metadata": {
    "collapsed": true
   },
   "outputs": [],
   "source": [
    "sess = tf.InteractiveSession()\n",
    "sess.run(tf.global_variables_initializer())"
   ]
  },
  {
   "cell_type": "code",
   "execution_count": 17,
   "metadata": {
    "collapsed": true
   },
   "outputs": [],
   "source": [
    "#from tensorflow.python.tools.inspect_checkpoint import print_tensors_in_checkpoint_file\n",
    "#checkpoint_path = os.path.join(model_dir, 'vector-5')\n",
    "#print(checkpoint_path)\n",
    "#print_tensors_in_checkpoint_file(checkpoint_path,tensor_name='',all_tensors='')\n",
    "#=================debug checkpoint files==================="
   ]
  },
  {
   "cell_type": "code",
   "execution_count": 18,
   "metadata": {},
   "outputs": [
    {
     "name": "stdout",
     "output_type": "stream",
     "text": [
      "INFO:tensorflow:Loading model model-schoolbus-wta-01/vector-10000.\n",
      "INFO:tensorflow:Restoring parameters from model-schoolbus-wta-01/vector-10000\n"
     ]
    }
   ],
   "source": [
    "# loads the weights from checkpoint into our model\n",
    "load_checkpoint(sess, model_dir)"
   ]
  },
  {
   "cell_type": "code",
   "execution_count": 19,
   "metadata": {
    "collapsed": true
   },
   "outputs": [],
   "source": [
    "def encode(input_strokes):\n",
    "  strokes = to_big_strokes(input_strokes,max_len=eval_hps_model.max_seq_len).tolist()\n",
    "  strokes.insert(0, [0, 0, 1, 0, 0])\n",
    "  seq_len = [len(input_strokes)]\n",
    "  draw_strokes(to_normal_strokes(np.array(strokes)))\n",
    "  return sess.run(eval_model.batch_zs, feed_dict={eval_model.input_data: [strokes], eval_model.sequence_lengths: seq_len})"
   ]
  },
  {
   "cell_type": "code",
   "execution_count": 20,
   "metadata": {
    "collapsed": true
   },
   "outputs": [],
   "source": [
    "def decode(z_input=None, draw_mode=True, temperature=0.1, factor=0.2):\n",
    "  z = None\n",
    "  if z_input is not None:\n",
    "    z = z_input\n",
    "  \n",
    "  sample_strokes = sample(sess, sample_model, seq_len=eval_model.hps.max_seq_len, temperature=temperature, z=z)\n",
    "  many_strokes = []\n",
    "  for i in range(sample_model.num_experts):\n",
    "    strokes = to_normal_strokes(sample_strokes[i])\n",
    "    many_strokes.append(strokes)\n",
    "    if draw_mode:\n",
    "      draw_strokes(strokes, factor)\n",
    "  return many_strokes"
   ]
  },
  {
   "cell_type": "code",
   "execution_count": 36,
   "metadata": {},
   "outputs": [
    {
     "data": {
      "image/svg+xml": [
       "<svg baseProfile=\"full\" height=\"77.1329173446\" version=\"1.1\" width=\"132.69807524\" xmlns=\"http://www.w3.org/2000/svg\" xmlns:ev=\"http://www.w3.org/2001/xml-events\" xmlns:xlink=\"http://www.w3.org/1999/xlink\"><defs/><rect fill=\"white\" height=\"77.1329173446\" width=\"132.69807524\" x=\"0\" y=\"0\"/><path d=\"M50.3750085644,49.0756872157 m0.611446015537,0.687876790762 l0.0,0.764307528734 -0.611446015537,0.764307528734 l-1.75790727139,0.764307528734 -2.52221494913,0.0764307519421 l-1.22289203107,-0.22929225117 -1.52861505747,-0.611446015537 l-1.07003055513,-1.07003055513 -0.22929225117,-1.60504579544 l1.1464612931,-1.4521843195 2.06363037229,-0.993599817157 l3.4393838048,-0.611446015537 1.68147653341,0.0 l2.21649184823,0.687876790762 0.458584502339,0.305723007768 l1.91076889634,2.52221494913 m40.584731102,-0.152861503884 l0.0,0.917169004679 -0.305723007768,0.458584502339 l-2.14006111026,1.1464612931 -1.37575358152,0.382153764367 l-2.36935332417,0.0 -0.687876790762,-0.764307528734 l0.0,-1.52861505747 0.687876790762,-1.4521843195 l1.52861505747,-0.993599817157 1.83433800936,-0.382153764367 l2.21649184823,0.0 2.06363037229,0.687876790762 l0.22929225117,0.382153764367 -0.382153764367,0.458584502339 m-69.3226909637,-0.764307528734 l10.5474436283,1.1464612931 1.22289203107,-0.535015277565 l1.75790727139,-2.52221494913 2.21649184823,-1.4521843195 l2.5986456871,-0.535015277565 3.74510675669,-0.0764307519421 l3.36295306683,0.840738266706 1.52861505747,1.1464612931 l0.535015277565,0.840738266706 0.458584502339,1.52861505747 l0.382153764367,0.152861503884 4.43298369646,-0.305723007768 l21.7063331604,-0.0764307519421 6.8787676096,0.458584502339 l0.305723007768,-0.382153764367 -0.152861503884,-1.29932284355 l1.07003055513,-1.60504579544 1.98719963431,-0.917169004679 l1.75790727139,0.0 4.89156812429,1.22289203107 l1.37575358152,1.22289203107 0.458584502339,2.06363037229 l5.5030143261,-0.152861503884 1.60504579544,0.305723007768 l-0.22929225117,-9.09525930882 -0.152861503884,-2.67507642508 l-0.687876790762,-3.89796853065 0.0,-5.80873727798 l-0.22929225117,-1.83433800936 -0.382153764367,-0.22929225117 l-4.66227591038,0.764307528734 -23.4642410278,1.4521843195 l-52.6607894897,0.611446015537 -0.22929225117,0.840738266706 l0.0764307519421,3.21009159088 1.83433800936,11.9996285439 l-0.458584502339,1.75790727139 m4.66227591038,-8.40738296509 l1.98719963431,0.764307528734 5.35015285015,0.535015277565 l2.14006111026,0.611446015537 -0.0764307519421,-5.73230624199 l-0.458584502339,-0.687876790762 -2.21649184823,0.458584502339 l-2.44578406215,0.0 -1.75790727139,-0.535015277565 l-0.22929225117,-0.382153764367 -0.535015277565,0.458584502339 l-0.917169004679,3.66867601871 0.0,0.917169004679 \" fill=\"none\" stroke=\"black\" stroke-width=\"1\"/></svg>"
      ],
      "text/plain": [
       "<IPython.core.display.SVG object>"
      ]
     },
     "metadata": {},
     "output_type": "display_data"
    }
   ],
   "source": [
    "# get a sample drawing from the test set, and render it to .svg\n",
    "stroke = test_set.random_sample()\n",
    "draw_strokes(stroke)"
   ]
  },
  {
   "cell_type": "code",
   "execution_count": 39,
   "metadata": {},
   "outputs": [
    {
     "data": {
      "image/svg+xml": [
       "<svg baseProfile=\"full\" height=\"77.1329173446\" version=\"1.1\" width=\"132.69807524\" xmlns=\"http://www.w3.org/2000/svg\" xmlns:ev=\"http://www.w3.org/2001/xml-events\" xmlns:xlink=\"http://www.w3.org/1999/xlink\"><defs/><rect fill=\"white\" height=\"77.1329173446\" width=\"132.69807524\" x=\"0\" y=\"0\"/><path d=\"M50.3750085644,49.0756872157 m0.0,0.0 l0.611446015537,0.687876790762 0.0,0.764307528734 l-0.611446015537,0.764307528734 -1.75790727139,0.764307528734 l-2.52221494913,0.0764307519421 -1.22289203107,-0.22929225117 l-1.52861505747,-0.611446015537 -1.07003055513,-1.07003055513 l-0.22929225117,-1.60504579544 1.1464612931,-1.4521843195 l2.06363037229,-0.993599817157 3.4393838048,-0.611446015537 l1.68147653341,0.0 2.21649184823,0.687876790762 l0.458584502339,0.305723007768 1.91076889634,2.52221494913 m40.584731102,-0.152861503884 l0.0,0.917169004679 -0.305723007768,0.458584502339 l-2.14006111026,1.1464612931 -1.37575358152,0.382153764367 l-2.36935332417,0.0 -0.687876790762,-0.764307528734 l0.0,-1.52861505747 0.687876790762,-1.4521843195 l1.52861505747,-0.993599817157 1.83433800936,-0.382153764367 l2.21649184823,0.0 2.06363037229,0.687876790762 l0.22929225117,0.382153764367 -0.382153764367,0.458584502339 m-69.3226909637,-0.764307528734 l10.5474436283,1.1464612931 1.22289203107,-0.535015277565 l1.75790727139,-2.52221494913 2.21649184823,-1.4521843195 l2.5986456871,-0.535015277565 3.74510675669,-0.0764307519421 l3.36295306683,0.840738266706 1.52861505747,1.1464612931 l0.535015277565,0.840738266706 0.458584502339,1.52861505747 l0.382153764367,0.152861503884 4.43298369646,-0.305723007768 l21.7063331604,-0.0764307519421 6.8787676096,0.458584502339 l0.305723007768,-0.382153764367 -0.152861503884,-1.29932284355 l1.07003055513,-1.60504579544 1.98719963431,-0.917169004679 l1.75790727139,0.0 4.89156812429,1.22289203107 l1.37575358152,1.22289203107 0.458584502339,2.06363037229 l5.5030143261,-0.152861503884 1.60504579544,0.305723007768 l-0.22929225117,-9.09525930882 -0.152861503884,-2.67507642508 l-0.687876790762,-3.89796853065 0.0,-5.80873727798 l-0.22929225117,-1.83433800936 -0.382153764367,-0.22929225117 l-4.66227591038,0.764307528734 -23.4642410278,1.4521843195 l-52.6607894897,0.611446015537 -0.22929225117,0.840738266706 l0.0764307519421,3.21009159088 1.83433800936,11.9996285439 l-0.458584502339,1.75790727139 m4.66227591038,-8.40738296509 l1.98719963431,0.764307528734 5.35015285015,0.535015277565 l2.14006111026,0.611446015537 -0.0764307519421,-5.73230624199 l-0.458584502339,-0.687876790762 -2.21649184823,0.458584502339 l-2.44578406215,0.0 -1.75790727139,-0.535015277565 l-0.22929225117,-0.382153764367 -0.535015277565,0.458584502339 l-0.917169004679,3.66867601871 0.0,0.917169004679 \" fill=\"none\" stroke=\"black\" stroke-width=\"1\"/></svg>"
      ],
      "text/plain": [
       "<IPython.core.display.SVG object>"
      ]
     },
     "metadata": {},
     "output_type": "display_data"
    }
   ],
   "source": [
    "many_zs = encode(stroke)"
   ]
  },
  {
   "cell_type": "code",
   "execution_count": 40,
   "metadata": {},
   "outputs": [
    {
     "data": {
      "image/svg+xml": [
       "<svg baseProfile=\"full\" height=\"74.4430644065\" version=\"1.1\" width=\"170.440536519\" xmlns=\"http://www.w3.org/2000/svg\" xmlns:ev=\"http://www.w3.org/2001/xml-events\" xmlns:xlink=\"http://www.w3.org/1999/xlink\"><defs/><rect fill=\"white\" height=\"74.4430644065\" width=\"170.440536519\" x=\"0\" y=\"0\"/><path d=\"M57.4225357361,30.1175496762 m-0.486515760422,1.37466430664 l-1.30177646875,1.81672886014 -1.86326280236,0.758075043559 l-7.41036593914,1.54697269201 -7.48562335968,0.941755101085 l-6.63693070412,0.213473457843 -4.81374412775,0.00952983624302 l-1.63123220205,-0.782954096794 -0.69177262485,-0.800253376365 l-0.101311746985,-1.07934705913 0.734509900212,-0.655248910189 l2.27763459086,-0.392256975174 4.47427541018,-0.181046109647 l4.7325733304,0.51330100745 6.69912934303,0.83704136312 l1.38106122613,0.118160797283 2.16068476439,1.2742100656 l1.53950676322,1.73738285899 0.917245969176,1.08992524445 l0.432101041079,0.819609761238 -0.127965770662,0.715937763453 l-2.32610985637,0.608688592911 -1.19033187628,-0.212811995298 l-2.64090925455,-2.04770430923 -0.587265193462,-1.3108573854 l0.339351184666,-1.09186314046 m1.10187530518,-0.960950031877 m23.7150382996,2.38302379847 l8.14355909824,-0.566486045718 7.46308267117,-0.338872745633 l2.9405990243,0.0160079752095 5.16746163368,-0.203345157206 l5.59491634369,-0.375826992095 5.18776416779,-0.117376996204 l6.02872550488,-0.372349247336 5.33762693405,-0.421615242958 l4.27819728851,-0.0922843813896 4.54284578562,-0.244158115238 l3.72411936522,-0.170916747302 2.01650932431,-0.129235386848 l2.41437986493,-0.267766620964 -0.0760314753279,-1.74986228347 l-0.477281212807,-1.24809086323 -0.869324058294,-1.31583973765 l-0.567127242684,-1.1626625061 -0.438868403435,-1.13285943866 l-0.419633239508,-1.07728146017 -1.04671612382,-0.639809966087 l-2.1729567647,-0.483713746071 -7.16260671616,-0.266391132027 l-10.8263337612,0.251099448651 -11.366533041,0.877443626523 l-10.3294157982,0.686121433973 -4.01624262333,0.249579939991 l-2.44288906455,0.386131927371 -0.937445163727,0.321378111839 l-0.768400430679,0.549117699265 -0.596875436604,0.918161794543 l0.312642790377,7.42679953575 0.154312867671,7.50603854656 m0.924517661333,4.27715361118 m0.425397977233,0.99403873086 m27.3624992371,-17.9413497448 l0.903176516294,4.55708503723 0.490780100226,3.21221858263 l6.58988177776,-0.339539460838 m-0.957318693399,-3.52547198534 l10.3054714203,-0.769189894199 8.26851725578,-0.680615976453 l7.71365344524,-0.832672268152 5.98949253559,-0.50781853497 l-0.396401248872,-3.29872697592 0.312011837959,-0.380110777915 l-1.81381911039,-0.3333741799 -0.443253107369,-0.134700071067 l-7.97263145447,1.29237934947 -8.16887080669,0.552694201469 l-7.33125090599,0.492087230086 -2.08807960153,0.156753826886 l-0.204943045974,0.112171787769 -0.364662259817,0.0983897410333 l0.325439535081,0.51854878664 \" fill=\"none\" stroke=\"black\" stroke-width=\"1\"/></svg>"
      ],
      "text/plain": [
       "<IPython.core.display.SVG object>"
      ]
     },
     "metadata": {},
     "output_type": "display_data"
    },
    {
     "data": {
      "image/svg+xml": [
       "<svg baseProfile=\"full\" height=\"78.2634716341\" version=\"1.1\" width=\"118.28720659\" xmlns=\"http://www.w3.org/2000/svg\" xmlns:ev=\"http://www.w3.org/2001/xml-events\" xmlns:xlink=\"http://www.w3.org/1999/xlink\"><defs/><rect fill=\"white\" height=\"78.2634716341\" width=\"118.28720659\" x=\"0\" y=\"0\"/><path d=\"M41.5454178554,49.2645817925 m0.592251382768,0.72392731905 l-0.0402348395437,0.749196261168 -0.567303448915,0.708834081888 l-1.88949525356,0.54178673774 -1.86693683267,-0.118750901893 l-1.67246475816,-0.497436821461 -1.32540032268,-0.733726322651 l-0.801247134805,-0.778619945049 -0.395732074976,-0.94500221312 l0.245706681162,-1.33856132627 0.963021814823,-0.791580304503 l1.77724286914,-0.524398423731 3.02967220545,-0.207201577723 l4.01833206415,0.444612763822 m25.1792693138,1.99244111776 l0.261745397002,0.0174831808545 0.535083524883,0.474980995059 l0.536131747067,1.23152524233 0.00220343761612,0.843634307384 l-0.439146384597,0.860954374075 -1.53452917933,1.14858873188 l-1.39376416802,0.196202564985 -1.36600777507,-0.347041077912 l-1.48257166147,-1.3859783113 -0.455501824617,-1.64117842913 l0.299456007779,-1.12900771201 1.04843981564,-0.982070639729 m-39.8036384583,1.25528097153 l7.45178282261,-1.17268569767 3.97244304419,-0.248321387917 l3.61583530903,-0.174300726503 8.36746096611,-0.440972782671 l7.58015871048,-0.108913918957 7.73499071598,-0.186743792146 l3.7857940793,-0.191067252308 6.76791965961,-0.075593739748 l5.74464857578,-0.0891599245369 5.35064280033,-0.0742617016658 l4.1420674324,-0.168607998639 3.77346247435,-0.127868335694 l-0.000713644039934,-2.82582104206 -0.288066267967,-2.85351186991 l-0.856654345989,-4.96386110783 -0.263619460166,-2.43434324861 l-0.138789433986,-2.60009139776 -0.087450472638,-3.08692574501 l-0.299864970148,-0.5596992746 -1.23182050884,-0.721214041114 l-2.33547598124,-0.509432815015 -10.2872264385,-0.420078635216 l-11.795296669,0.386333875358 -12.4733960629,0.338139496744 l-10.7052898407,0.80213047564 -9.62404847145,0.933170765638 l-3.14666181803,0.330039784312 -1.35289207101,0.37536509335 l-0.949596986175,0.565102994442 -0.629636719823,0.87468624115 l-0.444563105702,1.5234978497 0.204971972853,6.98980569839 l0.517235584557,5.04632353783 0.941075012088,2.36632347107 m4.25427943468,-13.1614136696 l0.389646217227,3.77928555012 0.434961467981,0.325558669865 l7.06680119038,0.0704471673816 7.81074225903,-0.135588953272 l8.1409239769,-0.362779945135 7.37298130989,-0.380022227764 l6.59091472626,-0.491477996111 4.45290118456,-0.558932349086 l3.57078105211,-0.567724481225 -0.831159651279,-3.85549515486 l-0.798704922199,-1.80266782641 -0.479571633041,-0.130142252892 l-10.4609179497,1.60729438066 -9.52080368996,1.06587015092 l-8.3230894804,0.736492574215 -5.13165295124,0.168196950108 l-0.871723070741,-0.0833725277334 -0.0410751998425,0.200740620494 l0.370326302946,0.708846747875 \" fill=\"none\" stroke=\"black\" stroke-width=\"1\"/></svg>"
      ],
      "text/plain": [
       "<IPython.core.display.SVG object>"
      ]
     },
     "metadata": {},
     "output_type": "display_data"
    }
   ],
   "source": [
    "_ = decode(many_zs, temperature=0.2) # convert z back to drawing at temperature of 0.8"
   ]
  },
  {
   "cell_type": "code",
   "execution_count": null,
   "metadata": {
    "collapsed": true
   },
   "outputs": [],
   "source": []
  }
 ],
 "metadata": {
  "kernelspec": {
   "display_name": "Python 2",
   "language": "python",
   "name": "python2"
  },
  "language_info": {
   "codemirror_mode": {
    "name": "ipython",
    "version": 2
   },
   "file_extension": ".py",
   "mimetype": "text/x-python",
   "name": "python",
   "nbconvert_exporter": "python",
   "pygments_lexer": "ipython2",
   "version": "2.7.13"
  }
 },
 "nbformat": 4,
 "nbformat_minor": 1
}
