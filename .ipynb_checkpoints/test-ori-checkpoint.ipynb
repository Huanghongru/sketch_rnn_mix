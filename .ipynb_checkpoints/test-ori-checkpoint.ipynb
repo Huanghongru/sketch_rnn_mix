{
 "cells": [
  {
   "cell_type": "code",
   "execution_count": 1,
   "metadata": {
    "collapsed": true
   },
   "outputs": [],
   "source": [
    "# import the required libraries\n",
    "import numpy as np\n",
    "import time\n",
    "import random\n",
    "import cPickle\n",
    "import codecs\n",
    "import collections\n",
    "import os\n",
    "import math\n",
    "import json\n",
    "import tensorflow as tf\n",
    "from six.moves import xrange\n",
    "\n",
    "# libraries required for visualisation:\n",
    "from IPython.display import SVG, display\n",
    "import svgwrite # conda install -c omnia svgwrite=1.1.6\n",
    "import PIL\n",
    "from PIL import Image\n",
    "import matplotlib.pyplot as plt\n",
    "\n",
    "# set numpy output to something sensible\n",
    "np.set_printoptions(precision=8, edgeitems=6, linewidth=200, suppress=True)"
   ]
  },
  {
   "cell_type": "code",
   "execution_count": 2,
   "metadata": {
    "collapsed": true
   },
   "outputs": [],
   "source": [
    "# import our command line tools\n",
    "from sketch_rnn_train import *\n",
    "from model import *\n",
    "from utils import *\n",
    "from rnn import *"
   ]
  },
  {
   "cell_type": "code",
   "execution_count": 3,
   "metadata": {
    "collapsed": true
   },
   "outputs": [],
   "source": [
    "# inspect variables in checkpoint files\n",
    "from tensorflow.python import pywrap_tensorflow\n",
    "from tensorflow.python.platform import app\n",
    "from tensorflow.python.platform import flags"
   ]
  },
  {
   "cell_type": "code",
   "execution_count": 4,
   "metadata": {
    "collapsed": true
   },
   "outputs": [],
   "source": [
    "# little function that displays vector images and saves them to .svg\n",
    "def draw_strokes(data, factor=0.2, svg_filename='/tmp/sketch_rnn/svg/sample.svg'):\n",
    "  tf.gfile.MakeDirs(os.path.dirname(svg_filename))\n",
    "  min_x, max_x, min_y, max_y = get_bounds(data, factor)\n",
    "  dims = (50 + max_x - min_x, 50 + max_y - min_y)\n",
    "  dwg = svgwrite.Drawing(svg_filename, size=dims)\n",
    "  dwg.add(dwg.rect(insert=(0, 0), size=dims,fill='white'))\n",
    "  lift_pen = 1\n",
    "  abs_x = 25 - min_x \n",
    "  abs_y = 25 - min_y\n",
    "  p = \"M%s,%s \" % (abs_x, abs_y)\n",
    "  command = \"m\"\n",
    "  for i in xrange(len(data)):\n",
    "    if (lift_pen == 1):\n",
    "      command = \"m\"\n",
    "    elif (command != \"l\"):\n",
    "      command = \"l\"\n",
    "    else:\n",
    "      command = \"\"\n",
    "    x = float(data[i,0])/factor\n",
    "    y = float(data[i,1])/factor\n",
    "    lift_pen = data[i, 2]\n",
    "    p += command+str(x)+\",\"+str(y)+\" \"\n",
    "  the_color = \"black\"\n",
    "  stroke_width = 1\n",
    "  dwg.add(dwg.path(p).stroke(the_color,stroke_width).fill(\"none\"))\n",
    "  dwg.save()\n",
    "  display(SVG(dwg.tostring()))\n",
    "\n",
    "# generate a 2D grid of many vector drawings\n",
    "def make_grid_svg(s_list, grid_space=10.0, grid_space_x=16.0):\n",
    "  def get_start_and_end(x):\n",
    "    x = np.array(x)\n",
    "    x = x[:, 0:2]\n",
    "    x_start = x[0]\n",
    "    x_end = x.sum(axis=0)\n",
    "    x = x.cumsum(axis=0)\n",
    "    x_max = x.max(axis=0)\n",
    "    x_min = x.min(axis=0)\n",
    "    center_loc = (x_max+x_min)*0.5\n",
    "    return x_start-center_loc, x_end\n",
    "  x_pos = 0.0\n",
    "  y_pos = 0.0\n",
    "  result = [[x_pos, y_pos, 1]]\n",
    "  for sample in s_list:\n",
    "    s = sample[0]\n",
    "    grid_loc = sample[1]\n",
    "    grid_y = grid_loc[0]*grid_space+grid_space*0.5\n",
    "    grid_x = grid_loc[1]*grid_space_x+grid_space_x*0.5\n",
    "    start_loc, delta_pos = get_start_and_end(s)\n",
    "\n",
    "    loc_x = start_loc[0]\n",
    "    loc_y = start_loc[1]\n",
    "    new_x_pos = grid_x+loc_x\n",
    "    new_y_pos = grid_y+loc_y\n",
    "    result.append([new_x_pos-x_pos, new_y_pos-y_pos, 0])\n",
    "\n",
    "    result += s.tolist()\n",
    "    result[-1][2] = 1\n",
    "    x_pos = new_x_pos+delta_pos[0]\n",
    "    y_pos = new_y_pos+delta_pos[1]\n",
    "  return np.array(result)"
   ]
  },
  {
   "cell_type": "code",
   "execution_count": 5,
   "metadata": {
    "collapsed": true
   },
   "outputs": [],
   "source": [
    "data_dir = 'dataset/quickdraw/'\n",
    "model_dir = 'test_model/'"
   ]
  },
  {
   "cell_type": "code",
   "execution_count": 6,
   "metadata": {
    "scrolled": true
   },
   "outputs": [
    {
     "name": "stdout",
     "output_type": "stream",
     "text": [
      "INFO:tensorflow:Loaded 70000/2500/2500 from cow.npz\n",
      "INFO:tensorflow:Loaded 70000/2500/2500 from crab.npz\n",
      "INFO:tensorflow:Dataset combined: 150000 (140000/5000/5000), avg len 97\n",
      "INFO:tensorflow:model_params.max_seq_len 208.\n",
      "total images <= max_seq_len is 140000\n",
      "total images <= max_seq_len is 5000\n",
      "total images <= max_seq_len is 5000\n",
      "INFO:tensorflow:normalizing_scale_factor 46.2957.\n"
     ]
    }
   ],
   "source": [
    "[train_set, valid_set, test_set, hps_model, eval_hps_model, sample_hps_model] = load_env(data_dir, model_dir)"
   ]
  },
  {
   "cell_type": "code",
   "execution_count": 7,
   "metadata": {},
   "outputs": [
    {
     "name": "stdout",
     "output_type": "stream",
     "text": [
      "INFO:tensorflow:Model using gpu.\n",
      "INFO:tensorflow:Input dropout mode = False.\n",
      "INFO:tensorflow:Output dropout mode = False.\n",
      "INFO:tensorflow:Recurrent dropout mode = True.\n",
      "INFO:tensorflow:Model using gpu.\n",
      "INFO:tensorflow:Input dropout mode = False.\n",
      "INFO:tensorflow:Output dropout mode = False.\n",
      "INFO:tensorflow:Recurrent dropout mode = False.\n",
      "INFO:tensorflow:Model using gpu.\n",
      "INFO:tensorflow:Input dropout mode = False.\n",
      "INFO:tensorflow:Output dropout mode = False.\n",
      "INFO:tensorflow:Recurrent dropout mode = False.\n"
     ]
    }
   ],
   "source": [
    "# construct the sketch-rnn model here:\n",
    "reset_graph()\n",
    "model = Model(hps_model)\n",
    "eval_model = Model(eval_hps_model, reuse=True)\n",
    "sample_model = Model(sample_hps_model, reuse=True)"
   ]
  },
  {
   "cell_type": "code",
   "execution_count": 8,
   "metadata": {
    "collapsed": true
   },
   "outputs": [],
   "source": [
    "sess = tf.InteractiveSession()\n",
    "sess.run(tf.global_variables_initializer())"
   ]
  },
  {
   "cell_type": "code",
   "execution_count": 9,
   "metadata": {},
   "outputs": [
    {
     "name": "stdout",
     "output_type": "stream",
     "text": [
      "INFO:tensorflow:Loading model test_model/vector-5.\n",
      "INFO:tensorflow:Restoring parameters from test_model/vector-5\n"
     ]
    }
   ],
   "source": [
    "# loads the weights from checkpoint into our model\n",
    "load_checkpoint(sess, model_dir)"
   ]
  },
  {
   "cell_type": "code",
   "execution_count": 10,
   "metadata": {
    "collapsed": true
   },
   "outputs": [],
   "source": [
    "def encode(input_strokes):\n",
    "  strokes = to_big_strokes(input_strokes,max_len=eval_hps_model.max_seq_len).tolist()\n",
    "  strokes.insert(0, [0, 0, 1, 0, 0])\n",
    "  seq_len = [len(input_strokes)]\n",
    "  draw_strokes(to_normal_strokes(np.array(strokes)))\n",
    "  return sess.run(eval_model.batch_z, feed_dict={eval_model.input_data: [strokes], eval_model.sequence_lengths: seq_len})[0]"
   ]
  },
  {
   "cell_type": "code",
   "execution_count": 11,
   "metadata": {
    "collapsed": true
   },
   "outputs": [],
   "source": [
    "def decode(z_input=None, draw_mode=True, temperature=0.1, factor=0.2):\n",
    "  z = None\n",
    "  if z_input is not None:\n",
    "    z = [z_input]\n",
    "  sample_strokes, m = sample(sess, sample_model, seq_len=eval_model.hps.max_seq_len, temperature=temperature, z=z)\n",
    "  strokes = to_normal_strokes(sample_strokes)\n",
    "  if draw_mode:\n",
    "    draw_strokes(strokes, factor)\n",
    "  return strokes"
   ]
  },
  {
   "cell_type": "code",
   "execution_count": 12,
   "metadata": {},
   "outputs": [
    {
     "data": {
      "image/svg+xml": [
       "<svg baseProfile=\"full\" height=\"80.3483780473\" version=\"1.1\" width=\"95.3605651483\" xmlns=\"http://www.w3.org/2000/svg\" xmlns:ev=\"http://www.w3.org/2001/xml-events\" xmlns:xlink=\"http://www.w3.org/1999/xlink\"><defs/><rect fill=\"white\" height=\"80.3483780473\" width=\"95.3605651483\" x=\"0\" y=\"0\"/><path d=\"M36.3401416317,32.6680955663 m0.0,0.0 m20.5202555656,-3.67204576731 l-14.5801818371,0.108001343906 -9.72012102604,2.37602964044 m0.0,0.0 l-2.80803501606,-4.86006051302 -0.324004031718,-1.62002027035 l-3.56404453516,0.864010751247 -0.864010751247,0.756009444594 l0.0,2.59203225374 1.18801482022,3.99604976177 l-1.18801482022,2.4840310216 0.216002687812,2.4840310216 l0.864010751247,0.756009444594 5.83207249641,0.0 m0.0,0.0 l0.108001343906,4.32005375624 1.29601612687,5.72407126427 l0.216002687812,4.21205252409 0.648008063436,0.54000671953 l0.54000671953,0.108001343906 0.432005375624,-0.648008063436 l0.0,-4.10405129194 0.864010751247,-3.34804177284 l3.34804177284,-6.91208600998 0.432005375624,0.648008063436 l1.29601612687,7.8840982914 0.432005375624,7.99209952354 l2.26802825928,-0.432005375624 0.324004031718,-0.648008063436 l0.864010751247,-6.04807555676 0.0,-8.20810258389 l1.08001343906,1.40401750803 2.4840310216,5.61607003212 l2.05202564597,6.69608354568 2.05202564597,0.216002687812 l1.83602288365,-0.972012132406 0.324004031718,-1.18801482022 l0.648008063436,-6.48008108139 -0.108001343906,-7.02008724213 l1.83602288365,4.42805528641 0.324004031718,7.8840982914 l2.59203225374,1.18801482022 1.40401750803,0.216002687812 l0.756009444594,-0.54000671953 0.864010751247,-1.40401750803 l0.432005375624,-4.10405129194 -0.54000671953,-4.53605651855 l-0.108001343906,-7.12808907032 m0.0,0.0 l0.108001343906,-0.648008063436 1.51201888919,-1.51201888919 l3.99604976177,-2.16002687812 1.83602288365,-1.94402426481 l-4.10405129194,0.864010751247 -6.58808231354,0.108001343906 l-1.62002027035,-0.324004031718 \" fill=\"none\" stroke=\"black\" stroke-width=\"1\"/></svg>"
      ],
      "text/plain": [
       "<IPython.core.display.SVG object>"
      ]
     },
     "metadata": {},
     "output_type": "display_data"
    }
   ],
   "source": [
    "# get a sample drawing from the test set, and render it to .svg\n",
    "stroke = test_set.random_sample()\n",
    "draw_strokes(stroke)"
   ]
  },
  {
   "cell_type": "code",
   "execution_count": 13,
   "metadata": {},
   "outputs": [
    {
     "data": {
      "image/svg+xml": [
       "<svg baseProfile=\"full\" height=\"80.3483780473\" version=\"1.1\" width=\"95.3605651483\" xmlns=\"http://www.w3.org/2000/svg\" xmlns:ev=\"http://www.w3.org/2001/xml-events\" xmlns:xlink=\"http://www.w3.org/1999/xlink\"><defs/><rect fill=\"white\" height=\"80.3483780473\" width=\"95.3605651483\" x=\"0\" y=\"0\"/><path d=\"M36.3401416317,32.6680955663 m0.0,0.0 l0.0,0.0 m20.5202555656,-3.67204576731 l-14.5801818371,0.108001343906 -9.72012102604,2.37602964044 m0.0,0.0 l-2.80803501606,-4.86006051302 -0.324004031718,-1.62002027035 l-3.56404453516,0.864010751247 -0.864010751247,0.756009444594 l0.0,2.59203225374 1.18801482022,3.99604976177 l-1.18801482022,2.4840310216 0.216002687812,2.4840310216 l0.864010751247,0.756009444594 5.83207249641,0.0 m0.0,0.0 l0.108001343906,4.32005375624 1.29601612687,5.72407126427 l0.216002687812,4.21205252409 0.648008063436,0.54000671953 l0.54000671953,0.108001343906 0.432005375624,-0.648008063436 l0.0,-4.10405129194 0.864010751247,-3.34804177284 l3.34804177284,-6.91208600998 0.432005375624,0.648008063436 l1.29601612687,7.8840982914 0.432005375624,7.99209952354 l2.26802825928,-0.432005375624 0.324004031718,-0.648008063436 l0.864010751247,-6.04807555676 0.0,-8.20810258389 l1.08001343906,1.40401750803 2.4840310216,5.61607003212 l2.05202564597,6.69608354568 2.05202564597,0.216002687812 l1.83602288365,-0.972012132406 0.324004031718,-1.18801482022 l0.648008063436,-6.48008108139 -0.108001343906,-7.02008724213 l1.83602288365,4.42805528641 0.324004031718,7.8840982914 l2.59203225374,1.18801482022 1.40401750803,0.216002687812 l0.756009444594,-0.54000671953 0.864010751247,-1.40401750803 l0.432005375624,-4.10405129194 -0.54000671953,-4.53605651855 l-0.108001343906,-7.12808907032 m0.0,0.0 l0.108001343906,-0.648008063436 1.51201888919,-1.51201888919 l3.99604976177,-2.16002687812 1.83602288365,-1.94402426481 l-4.10405129194,0.864010751247 -6.58808231354,0.108001343906 l-1.62002027035,-0.324004031718 \" fill=\"none\" stroke=\"black\" stroke-width=\"1\"/></svg>"
      ],
      "text/plain": [
       "<IPython.core.display.SVG object>"
      ]
     },
     "metadata": {},
     "output_type": "display_data"
    }
   ],
   "source": [
    "z = encode(stroke)"
   ]
  },
  {
   "cell_type": "code",
   "execution_count": 14,
   "metadata": {},
   "outputs": [
    {
     "data": {
      "image/svg+xml": [
       "<svg baseProfile=\"full\" height=\"64.1624795459\" version=\"1.1\" width=\"59.3752391264\" xmlns=\"http://www.w3.org/2000/svg\" xmlns:ev=\"http://www.w3.org/2001/xml-events\" xmlns:xlink=\"http://www.w3.org/1999/xlink\"><defs/><rect fill=\"white\" height=\"64.1624795459\" width=\"59.3752391264\" x=\"0\" y=\"0\"/><path d=\"M25.4450254678,25 m-0.0725921522826,2.12435573339 l-0.126794502139,-0.456169210374 3.28893870115,-1.4603805542 l-0.739068686962,2.10091412067 0.0883488450199,0.986261293292 l0.160679295659,1.34314209223 2.08091720939,0.877965465188 l0.707132294774,1.7852139473 -0.946001634002,1.31634473801 l-1.91027492285,0.0418494455516 -2.94126868248,-0.203703474253 l-0.035041233059,-0.12897754088 0.258099846542,0.441905111074 l0.983403921127,2.13207408786 0.943745672703,-0.409097634256 l3.23851823807,2.64251440763 3.95147144794,1.02826751769 \" fill=\"none\" stroke=\"black\" stroke-width=\"1\"/></svg>"
      ],
      "text/plain": [
       "<IPython.core.display.SVG object>"
      ]
     },
     "metadata": {},
     "output_type": "display_data"
    }
   ],
   "source": [
    "_ = decode(z, temperature=0.2) # convert z back to drawing at temperature of 0.8"
   ]
  },
  {
   "cell_type": "code",
   "execution_count": null,
   "metadata": {
    "collapsed": true
   },
   "outputs": [],
   "source": []
  }
 ],
 "metadata": {
  "kernelspec": {
   "display_name": "Python 2",
   "language": "python",
   "name": "python2"
  },
  "language_info": {
   "codemirror_mode": {
    "name": "ipython",
    "version": 2
   },
   "file_extension": ".py",
   "mimetype": "text/x-python",
   "name": "python",
   "nbconvert_exporter": "python",
   "pygments_lexer": "ipython2",
   "version": "2.7.13"
  }
 },
 "nbformat": 4,
 "nbformat_minor": 1
}
